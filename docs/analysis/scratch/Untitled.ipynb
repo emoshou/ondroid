{
 "cells": [
  {
   "cell_type": "code",
   "execution_count": null,
   "id": "b88c8db5-feb9-4104-baa7-2deffab3365f",
   "metadata": {},
   "outputs": [],
   "source": [
    "dwadwad"
   ]
  }
 ],
 "metadata": {
  "kernelspec": {
   "display_name": "Python 3 (ipykernel)",
   "language": "python",
   "name": "python3"
  },
  "language_info": {
   "codemirror_mode": {
    "name": "ipython",
    "version": 3
   },
   "file_extension": ".py",
   "mimetype": "text/x-python",
   "name": "python",
   "nbconvert_exporter": "python",
   "pygments_lexer": "ipython3",
   "version": "3.9.6"
  }
 },
 "nbformat": 4,
 "nbformat_minor": 5
}
