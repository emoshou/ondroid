{
 "cells": [
  {
   "cell_type": "markdown",
   "id": "7491e1c4",
   "metadata": {},
   "source": [
    "# Shoulder Axis Analysis\n",
    "## Notes\n",
    "### LaTeX Rendering\n",
    "Equations (LaTeX) are not currently supported in mkdocs-jupyter rendering on Safari. Firefox or Chrome is recommended for use to bypass this issue. \n",
    "\n",
    "See Github Issue here: https://github.com/danielfrg/mkdocs-jupyter/issues/156. \n",
    "\n",
    "## Purpose\n",
    "This analysis generates the peak torque acting at the shoulder joint of the robot.\n",
    "\n",
    "This is used to size shoulder motors and calculate motor torques required at each downstream joint.\n",
    "\n",
    "## FBD\n",
    "The FBD representing torques acting on the shoulder joint is:"
   ]
  },
  {
   "cell_type": "code",
   "execution_count": 1,
   "id": "5d48ed08",
   "metadata": {},
   "outputs": [
    {
     "ename": "FileNotFoundError",
     "evalue": "No such file or directory: 'rightArmFBD1.PNG'",
     "output_type": "error",
     "traceback": [
      "\u001b[0;31m---------------------------------------------------------------------------\u001b[0m",
      "\u001b[0;31mTypeError\u001b[0m                                 Traceback (most recent call last)",
      "File \u001b[0;32m~/sw/ondroid/ondroid/lib/python3.9/site-packages/IPython/core/display.py:1045\u001b[0m, in \u001b[0;36mImage._data_and_metadata\u001b[0;34m(self, always_both)\u001b[0m\n\u001b[1;32m   1044\u001b[0m \u001b[38;5;28;01mtry\u001b[39;00m:\n\u001b[0;32m-> 1045\u001b[0m     b64_data \u001b[38;5;241m=\u001b[39m \u001b[43mb2a_base64\u001b[49m\u001b[43m(\u001b[49m\u001b[38;5;28;43mself\u001b[39;49m\u001b[38;5;241;43m.\u001b[39;49m\u001b[43mdata\u001b[49m\u001b[43m,\u001b[49m\u001b[43m \u001b[49m\u001b[43mnewline\u001b[49m\u001b[38;5;241;43m=\u001b[39;49m\u001b[38;5;28;43;01mFalse\u001b[39;49;00m\u001b[43m)\u001b[49m\u001b[38;5;241m.\u001b[39mdecode(\u001b[38;5;124m\"\u001b[39m\u001b[38;5;124mascii\u001b[39m\u001b[38;5;124m\"\u001b[39m)\n\u001b[1;32m   1046\u001b[0m \u001b[38;5;28;01mexcept\u001b[39;00m \u001b[38;5;167;01mTypeError\u001b[39;00m \u001b[38;5;28;01mas\u001b[39;00m e:\n",
      "\u001b[0;31mTypeError\u001b[0m: a bytes-like object is required, not 'str'",
      "\nThe above exception was the direct cause of the following exception:\n",
      "\u001b[0;31mFileNotFoundError\u001b[0m                         Traceback (most recent call last)",
      "File \u001b[0;32m~/sw/ondroid/ondroid/lib/python3.9/site-packages/IPython/core/formatters.py:974\u001b[0m, in \u001b[0;36mMimeBundleFormatter.__call__\u001b[0;34m(self, obj, include, exclude)\u001b[0m\n\u001b[1;32m    971\u001b[0m     method \u001b[38;5;241m=\u001b[39m get_real_method(obj, \u001b[38;5;28mself\u001b[39m\u001b[38;5;241m.\u001b[39mprint_method)\n\u001b[1;32m    973\u001b[0m     \u001b[38;5;28;01mif\u001b[39;00m method \u001b[38;5;129;01mis\u001b[39;00m \u001b[38;5;129;01mnot\u001b[39;00m \u001b[38;5;28;01mNone\u001b[39;00m:\n\u001b[0;32m--> 974\u001b[0m         \u001b[38;5;28;01mreturn\u001b[39;00m \u001b[43mmethod\u001b[49m\u001b[43m(\u001b[49m\u001b[43minclude\u001b[49m\u001b[38;5;241;43m=\u001b[39;49m\u001b[43minclude\u001b[49m\u001b[43m,\u001b[49m\u001b[43m \u001b[49m\u001b[43mexclude\u001b[49m\u001b[38;5;241;43m=\u001b[39;49m\u001b[43mexclude\u001b[49m\u001b[43m)\u001b[49m\n\u001b[1;32m    975\u001b[0m     \u001b[38;5;28;01mreturn\u001b[39;00m \u001b[38;5;28;01mNone\u001b[39;00m\n\u001b[1;32m    976\u001b[0m \u001b[38;5;28;01melse\u001b[39;00m:\n",
      "File \u001b[0;32m~/sw/ondroid/ondroid/lib/python3.9/site-packages/IPython/core/display.py:1035\u001b[0m, in \u001b[0;36mImage._repr_mimebundle_\u001b[0;34m(self, include, exclude)\u001b[0m\n\u001b[1;32m   1033\u001b[0m \u001b[38;5;28;01mif\u001b[39;00m \u001b[38;5;28mself\u001b[39m\u001b[38;5;241m.\u001b[39membed:\n\u001b[1;32m   1034\u001b[0m     mimetype \u001b[38;5;241m=\u001b[39m \u001b[38;5;28mself\u001b[39m\u001b[38;5;241m.\u001b[39m_mimetype\n\u001b[0;32m-> 1035\u001b[0m     data, metadata \u001b[38;5;241m=\u001b[39m \u001b[38;5;28;43mself\u001b[39;49m\u001b[38;5;241;43m.\u001b[39;49m\u001b[43m_data_and_metadata\u001b[49m\u001b[43m(\u001b[49m\u001b[43malways_both\u001b[49m\u001b[38;5;241;43m=\u001b[39;49m\u001b[38;5;28;43;01mTrue\u001b[39;49;00m\u001b[43m)\u001b[49m\n\u001b[1;32m   1036\u001b[0m     \u001b[38;5;28;01mif\u001b[39;00m metadata:\n\u001b[1;32m   1037\u001b[0m         metadata \u001b[38;5;241m=\u001b[39m {mimetype: metadata}\n",
      "File \u001b[0;32m~/sw/ondroid/ondroid/lib/python3.9/site-packages/IPython/core/display.py:1047\u001b[0m, in \u001b[0;36mImage._data_and_metadata\u001b[0;34m(self, always_both)\u001b[0m\n\u001b[1;32m   1045\u001b[0m     b64_data \u001b[38;5;241m=\u001b[39m b2a_base64(\u001b[38;5;28mself\u001b[39m\u001b[38;5;241m.\u001b[39mdata, newline\u001b[38;5;241m=\u001b[39m\u001b[38;5;28;01mFalse\u001b[39;00m)\u001b[38;5;241m.\u001b[39mdecode(\u001b[38;5;124m\"\u001b[39m\u001b[38;5;124mascii\u001b[39m\u001b[38;5;124m\"\u001b[39m)\n\u001b[1;32m   1046\u001b[0m \u001b[38;5;28;01mexcept\u001b[39;00m \u001b[38;5;167;01mTypeError\u001b[39;00m \u001b[38;5;28;01mas\u001b[39;00m e:\n\u001b[0;32m-> 1047\u001b[0m     \u001b[38;5;28;01mraise\u001b[39;00m \u001b[38;5;167;01mFileNotFoundError\u001b[39;00m(\n\u001b[1;32m   1048\u001b[0m         \u001b[38;5;124m\"\u001b[39m\u001b[38;5;124mNo such file or directory: \u001b[39m\u001b[38;5;124m'\u001b[39m\u001b[38;5;132;01m%s\u001b[39;00m\u001b[38;5;124m'\u001b[39m\u001b[38;5;124m\"\u001b[39m \u001b[38;5;241m%\u001b[39m (\u001b[38;5;28mself\u001b[39m\u001b[38;5;241m.\u001b[39mdata)) \u001b[38;5;28;01mfrom\u001b[39;00m\u001b[38;5;250m \u001b[39m\u001b[38;5;21;01me\u001b[39;00m\n\u001b[1;32m   1049\u001b[0m md \u001b[38;5;241m=\u001b[39m {}\n\u001b[1;32m   1050\u001b[0m \u001b[38;5;28;01mif\u001b[39;00m \u001b[38;5;28mself\u001b[39m\u001b[38;5;241m.\u001b[39mmetadata:\n",
      "\u001b[0;31mFileNotFoundError\u001b[0m: No such file or directory: 'rightArmFBD1.PNG'"
     ]
    },
    {
     "ename": "FileNotFoundError",
     "evalue": "No such file or directory: 'rightArmFBD1.PNG'",
     "output_type": "error",
     "traceback": [
      "\u001b[0;31m---------------------------------------------------------------------------\u001b[0m",
      "\u001b[0;31mTypeError\u001b[0m                                 Traceback (most recent call last)",
      "File \u001b[0;32m~/sw/ondroid/ondroid/lib/python3.9/site-packages/IPython/core/display.py:1045\u001b[0m, in \u001b[0;36mImage._data_and_metadata\u001b[0;34m(self, always_both)\u001b[0m\n\u001b[1;32m   1044\u001b[0m \u001b[38;5;28;01mtry\u001b[39;00m:\n\u001b[0;32m-> 1045\u001b[0m     b64_data \u001b[38;5;241m=\u001b[39m \u001b[43mb2a_base64\u001b[49m\u001b[43m(\u001b[49m\u001b[38;5;28;43mself\u001b[39;49m\u001b[38;5;241;43m.\u001b[39;49m\u001b[43mdata\u001b[49m\u001b[43m,\u001b[49m\u001b[43m \u001b[49m\u001b[43mnewline\u001b[49m\u001b[38;5;241;43m=\u001b[39;49m\u001b[38;5;28;43;01mFalse\u001b[39;49;00m\u001b[43m)\u001b[49m\u001b[38;5;241m.\u001b[39mdecode(\u001b[38;5;124m\"\u001b[39m\u001b[38;5;124mascii\u001b[39m\u001b[38;5;124m\"\u001b[39m)\n\u001b[1;32m   1046\u001b[0m \u001b[38;5;28;01mexcept\u001b[39;00m \u001b[38;5;167;01mTypeError\u001b[39;00m \u001b[38;5;28;01mas\u001b[39;00m e:\n",
      "\u001b[0;31mTypeError\u001b[0m: a bytes-like object is required, not 'str'",
      "\nThe above exception was the direct cause of the following exception:\n",
      "\u001b[0;31mFileNotFoundError\u001b[0m                         Traceback (most recent call last)",
      "File \u001b[0;32m~/sw/ondroid/ondroid/lib/python3.9/site-packages/IPython/core/formatters.py:344\u001b[0m, in \u001b[0;36mBaseFormatter.__call__\u001b[0;34m(self, obj)\u001b[0m\n\u001b[1;32m    342\u001b[0m     method \u001b[38;5;241m=\u001b[39m get_real_method(obj, \u001b[38;5;28mself\u001b[39m\u001b[38;5;241m.\u001b[39mprint_method)\n\u001b[1;32m    343\u001b[0m     \u001b[38;5;28;01mif\u001b[39;00m method \u001b[38;5;129;01mis\u001b[39;00m \u001b[38;5;129;01mnot\u001b[39;00m \u001b[38;5;28;01mNone\u001b[39;00m:\n\u001b[0;32m--> 344\u001b[0m         \u001b[38;5;28;01mreturn\u001b[39;00m \u001b[43mmethod\u001b[49m\u001b[43m(\u001b[49m\u001b[43m)\u001b[49m\n\u001b[1;32m    345\u001b[0m     \u001b[38;5;28;01mreturn\u001b[39;00m \u001b[38;5;28;01mNone\u001b[39;00m\n\u001b[1;32m    346\u001b[0m \u001b[38;5;28;01melse\u001b[39;00m:\n",
      "File \u001b[0;32m~/sw/ondroid/ondroid/lib/python3.9/site-packages/IPython/core/display.py:1067\u001b[0m, in \u001b[0;36mImage._repr_png_\u001b[0;34m(self)\u001b[0m\n\u001b[1;32m   1065\u001b[0m \u001b[38;5;28;01mdef\u001b[39;00m\u001b[38;5;250m \u001b[39m\u001b[38;5;21m_repr_png_\u001b[39m(\u001b[38;5;28mself\u001b[39m):\n\u001b[1;32m   1066\u001b[0m     \u001b[38;5;28;01mif\u001b[39;00m \u001b[38;5;28mself\u001b[39m\u001b[38;5;241m.\u001b[39membed \u001b[38;5;129;01mand\u001b[39;00m \u001b[38;5;28mself\u001b[39m\u001b[38;5;241m.\u001b[39mformat \u001b[38;5;241m==\u001b[39m \u001b[38;5;28mself\u001b[39m\u001b[38;5;241m.\u001b[39m_FMT_PNG:\n\u001b[0;32m-> 1067\u001b[0m         \u001b[38;5;28;01mreturn\u001b[39;00m \u001b[38;5;28;43mself\u001b[39;49m\u001b[38;5;241;43m.\u001b[39;49m\u001b[43m_data_and_metadata\u001b[49m\u001b[43m(\u001b[49m\u001b[43m)\u001b[49m\n",
      "File \u001b[0;32m~/sw/ondroid/ondroid/lib/python3.9/site-packages/IPython/core/display.py:1047\u001b[0m, in \u001b[0;36mImage._data_and_metadata\u001b[0;34m(self, always_both)\u001b[0m\n\u001b[1;32m   1045\u001b[0m     b64_data \u001b[38;5;241m=\u001b[39m b2a_base64(\u001b[38;5;28mself\u001b[39m\u001b[38;5;241m.\u001b[39mdata, newline\u001b[38;5;241m=\u001b[39m\u001b[38;5;28;01mFalse\u001b[39;00m)\u001b[38;5;241m.\u001b[39mdecode(\u001b[38;5;124m\"\u001b[39m\u001b[38;5;124mascii\u001b[39m\u001b[38;5;124m\"\u001b[39m)\n\u001b[1;32m   1046\u001b[0m \u001b[38;5;28;01mexcept\u001b[39;00m \u001b[38;5;167;01mTypeError\u001b[39;00m \u001b[38;5;28;01mas\u001b[39;00m e:\n\u001b[0;32m-> 1047\u001b[0m     \u001b[38;5;28;01mraise\u001b[39;00m \u001b[38;5;167;01mFileNotFoundError\u001b[39;00m(\n\u001b[1;32m   1048\u001b[0m         \u001b[38;5;124m\"\u001b[39m\u001b[38;5;124mNo such file or directory: \u001b[39m\u001b[38;5;124m'\u001b[39m\u001b[38;5;132;01m%s\u001b[39;00m\u001b[38;5;124m'\u001b[39m\u001b[38;5;124m\"\u001b[39m \u001b[38;5;241m%\u001b[39m (\u001b[38;5;28mself\u001b[39m\u001b[38;5;241m.\u001b[39mdata)) \u001b[38;5;28;01mfrom\u001b[39;00m\u001b[38;5;250m \u001b[39m\u001b[38;5;21;01me\u001b[39;00m\n\u001b[1;32m   1049\u001b[0m md \u001b[38;5;241m=\u001b[39m {}\n\u001b[1;32m   1050\u001b[0m \u001b[38;5;28;01mif\u001b[39;00m \u001b[38;5;28mself\u001b[39m\u001b[38;5;241m.\u001b[39mmetadata:\n",
      "\u001b[0;31mFileNotFoundError\u001b[0m: No such file or directory: 'rightArmFBD1.PNG'"
     ]
    },
    {
     "data": {
      "text/plain": [
       "<IPython.core.display.Image object>"
      ]
     },
     "execution_count": 1,
     "metadata": {},
     "output_type": "execute_result"
    }
   ],
   "source": [
    "from IPython import display\n",
    "display.Image('rightArmFBD1.PNG', width=600)"
   ]
  },
  {
   "cell_type": "markdown",
   "id": "67fd8e77",
   "metadata": {},
   "source": [
    "Where:\n",
    "\n",
    "$T_{mp}$ represents torque of the payload generated about point A.\n",
    "\n",
    "$T_{m1}$ represents torque of mass 1 (approximation of total) of linkage 1."
   ]
  },
  {
   "cell_type": "markdown",
   "id": "17e2add2",
   "metadata": {},
   "source": [
    "# Analysis\n",
    "2. Sum all torques generated from point masses under gravity in addition to motor torques:\n",
    "\n",
    "$$\n",
    "\\sum T_A = 0 = T_{motor} -T_{a_{p}} - T_{a_{3}} - T_{a_{2}} - T_{a_{1}} - T_{mp} - T_{m3} - T_{m2} - T_{m1}\n",
    "$$\n",
    "\n",
    "*Note that the torques from mass are represented as $T_{a_{i}}$and will be broken into constituent elements (mass times gravity at distance, or weight times distance) later*\n",
    "\n",
    "3. For preliminary torque calculations and to summarize the torque required at the shoulder motor under worst case load, we can remove the acceleration torques from equation one and consider the system in static loading\n",
    "\n",
    "$$\n",
    "\\sum T_A = 0 = T_{motor} - T_{mp} - T_{m3} - T_{m2} - T_{m1}\n",
    "$$\n"
   ]
  },
  {
   "cell_type": "code",
   "execution_count": 2,
   "id": "4beb8d1e",
   "metadata": {},
   "outputs": [],
   "source": [
    "# Base Libraries for all Ondroid projects\n",
    "import matplotlib, numpy, yaml, pint\n",
    "import numpy as np\n",
    "\n",
    "# Boilerplate\n",
    "## Initialize Pint Registry for Unit Manipulation\n",
    "## See documentation on Registries and Units in Pint here:\n",
    "## https://pint.readthedocs.io/en/stable/getting/tutorial.html\n",
    "from pint import UnitRegistry\n",
    "ureg = UnitRegistry(auto_reduce_dimensions=True)"
   ]
  },
  {
   "cell_type": "code",
   "execution_count": 3,
   "id": "562a9d0c-98ea-4b5c-9315-c290d3bfc36a",
   "metadata": {},
   "outputs": [],
   "source": [
    "preferred_units = [\n",
    "   ureg.m,  # distance      L\n",
    "   ureg.kilogram,  # mass          M\n",
    "   ureg.s,  # duration      T\n",
    "   ureg.c,  # temperature   Θ\n",
    "   ureg.newton,  # force         L M T^-2\n",
    "   ureg.W,  # power         L^2 M T^-3\n",
    "]"
   ]
  },
  {
   "cell_type": "code",
   "execution_count": 5,
   "id": "17ab60ae-60e7-4a98-854e-e39e1897a315",
   "metadata": {},
   "outputs": [],
   "source": [
    "# Dictionary to store the read Pint values\n",
    "parameters = {}\n",
    "\n",
    "# Open and read the file\n",
    "with open('vars.txt', 'r') as file:\n",
    "    for line in file:\n",
    "        # Split the line into quantity name and value string\n",
    "        quantity, value_str = line.strip().split(': ')\n",
    "        \n",
    "        # Parse the value string into a Pint quantity\n",
    "        value = ureg(value_str)\n",
    "        \n",
    "        # Store the Pint quantity in the dictionary\n",
    "        parameters[quantity] = value"
   ]
  },
  {
   "cell_type": "code",
   "execution_count": null,
   "id": "78148e21-91f1-484c-afbe-ac6353e7f796",
   "metadata": {},
   "outputs": [],
   "source": [
    "# Create parameters\n",
    "## Arms are defined starting at the shoulder, working down to the hand\n",
    "parameters['L1'] = 750 * ureg.millimeter\n",
    "parameters['L2'] = 500 * ureg.millimeter\n",
    "parameters['L3'] = 150 * ureg.millimeter\n",
    "parameters['LP'] = 150 * ureg.millimeter\n",
    "\n",
    "## Masses are defined\n",
    "## Note: Masses estimated. They need further conceptual design to refine\n",
    "parameters['m1'] = 2.5 * ureg.kilogram\n",
    "parameters['m2'] = 2.0 * ureg.kilogram\n",
    "parameters['m3'] = 0.5 * ureg.kilogram\n",
    "\n",
    "## A requirement of the project is to be able to lift a gallon of water\n",
    "parameters['mP'] = 4.0 * ureg.kilogram"
   ]
  },
  {
   "cell_type": "code",
   "execution_count": null,
   "id": "68adc829-8db3-46d0-9d2c-2ea9a0ec6b0c",
   "metadata": {},
   "outputs": [],
   "source": [
    "# Calculate the weight of each member\n",
    "w1 = parameters['m1'] * 9.81 * ureg.meter / ureg.second**2\n",
    "w1 = w1.to(ureg.newton)\n",
    "\n",
    "w2 = parameters['m2'] * 9.81 * ureg.meter / ureg.second**2\n",
    "w2 = w2.to(ureg.newton)\n",
    "\n",
    "w3 = parameters['m3'] * 9.81 * ureg.meter / ureg.second**2\n",
    "w3 = w3.to(ureg.newton)\n",
    "\n",
    "wp = parameters['mP'] * 9.81 * ureg.meter / ureg.second**2\n",
    "wp = wp.to(ureg.newton)"
   ]
  },
  {
   "cell_type": "code",
   "execution_count": null,
   "id": "33cbfab0-a286-4530-abfe-f90b093954f2",
   "metadata": {},
   "outputs": [],
   "source": [
    "# Calculate the torque acting at the arm as a sum of all torques\n",
    "# generated about point a.\n",
    "#\n",
    "# Note that the lengths are divided by two, as the weight of the member acts \n",
    "# at half the length of the member.\n",
    "#\n",
    "# The exception to this is the payload, which is measured directly to its center of mass\n",
    "\n",
    "Tmp = parameters['LP'] * wp\n",
    "Tm3 = parameters['L3'] * w3\n",
    "Tm2 = parameters['L2'] * w2\n",
    "Tm1 = parameters['L1'] * w1\n",
    "\n",
    "# Finally, the motor torque at the shoulder is:\n",
    "TMotor = Tmp + Tm3 + Tm2 + Tm1\n",
    "\n",
    "print(TMotor.to(ureg.m * ureg.N))"
   ]
  },
  {
   "cell_type": "code",
   "execution_count": null,
   "id": "30966c29-c2d5-46b6-898e-b85c60ffc40f",
   "metadata": {},
   "outputs": [],
   "source": [
    "# Close out file and save manipulated parameters\n",
    "with open('arms.txt',  'w') as file:\n",
    "    # Iterate th rough the pint values dictionary\n",
    "    for quantity, value in parameters.items():\n",
    "        # Format the value with 6 decimal places\n",
    "        value_str = f\"{quantity}: {value:.6f~P}\"\n",
    "        \n",
    "        # Write the formatted string to the file, followed by a newline character\n",
    "        file.write(value_str + '\\n')"
   ]
  }
 ],
 "metadata": {
  "kernelspec": {
   "display_name": "Python 3 (ipykernel)",
   "language": "python",
   "name": "python3"
  },
  "language_info": {
   "codemirror_mode": {
    "name": "ipython",
    "version": 3
   },
   "file_extension": ".py",
   "mimetype": "text/x-python",
   "name": "python",
   "nbconvert_exporter": "python",
   "pygments_lexer": "ipython3",
   "version": "3.9.6"
  }
 },
 "nbformat": 4,
 "nbformat_minor": 5
}
