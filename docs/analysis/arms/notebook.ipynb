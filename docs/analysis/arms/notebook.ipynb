{
 "cells": [
  {
   "cell_type": "code",
   "execution_count": 15,
   "id": "4beb8d1e",
   "metadata": {},
   "outputs": [],
   "source": [
    "# Base Libraries for all Ondroid projects\n",
    "import matplotlib, numpy, yaml"
   ]
  },
  {
   "cell_type": "markdown",
   "id": "7491e1c4",
   "metadata": {},
   "source": [
    "# Purpose\n",
    "This analysis generates the peak torque acting at the shoulder joint of the robot.\n",
    "\n",
    "# FBD\n",
    "1. Draw the FBD representing torques acting on the shoulder joint\n",
    "![Right Arm Free Body Diagram](rightArmFBD1.png)\n",
    "\n",
    "\n",
    "# Analysis\n",
    "2. Sum all torques generated from point masses under gravity in addition to motor torques\n",
    "\n",
    "$$\n",
    "\\sum T_A = 0 = T_{motor} -T_{a_{p}} - T_{a_{3}} - T_{a_{2}} - T_{a_{1}} - T_{mp} - T_{m3} - T_{m2} - T_{m1}\n",
    "$$\n",
    "\n",
    "*Note that the torques from mass are represented as $T_{a_{i}}$and will be broken into constituent elements (mass times gravity at distance, or weight times distance) later*\n",
    "\n",
    "3. For preliminary torque calculations and to summarize the torque required at the shoulder motor under worst case load, we can remove the acceleration torques from equation one and consider the system in static loading\n",
    "\n",
    "$$\n",
    "\\sum T_A = 0 = T_{motor} - T_{mp} - T_{m3} - T_{m2} - T_{m1}\n",
    "$$\n"
   ]
  }
 ],
 "metadata": {
  "kernelspec": {
   "display_name": "Python 3 (ipykernel)",
   "language": "python",
   "name": "python3"
  },
  "language_info": {
   "codemirror_mode": {
    "name": "ipython",
    "version": 3
   },
   "file_extension": ".py",
   "mimetype": "text/x-python",
   "name": "python",
   "nbconvert_exporter": "python",
   "pygments_lexer": "ipython3",
   "version": "3.11.7"
  }
 },
 "nbformat": 4,
 "nbformat_minor": 5
}
